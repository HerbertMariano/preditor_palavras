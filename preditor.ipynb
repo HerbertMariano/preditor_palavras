{
 "cells": [
  {
   "cell_type": "code",
   "execution_count": 4,
   "metadata": {},
   "outputs": [
    {
     "name": "stdout",
     "output_type": "stream",
     "text": [
      "showing info https://raw.githubusercontent.com/nltk/nltk_data/gh-pages/index.xml\n"
     ]
    }
   ],
   "source": [
    "import nltk\n",
    "nltk.download()"
   ]
  },
  {
   "cell_type": "code",
   "execution_count": 2,
   "metadata": {},
   "outputs": [],
   "source": [
    "from collections import defaultdict\n",
    "from nltk.util import ngrams\n",
    "from nltk.probability import FreqDist\n",
    "from nltk.tokenize import word_tokenize\n",
    "from nltk.corpus import gutenberg\n",
    "from concurrent.futures import ProcessPoolExecutor, as_completed"
   ]
  },
  {
   "cell_type": "code",
   "execution_count": null,
   "metadata": {},
   "outputs": [],
   "source": [
    "# Load the corpus\n",
    "corpus = gutenberg.raw()"
   ]
  },
  {
   "cell_type": "code",
   "execution_count": null,
   "metadata": {},
   "outputs": [],
   "source": [
    "# Tokenize the corpus\n",
    "tokens = word_tokenize(corpus)"
   ]
  },
  {
   "cell_type": "code",
   "execution_count": null,
   "metadata": {},
   "outputs": [],
   "source": [
    "# Create a n-grams model\n",
    "n = 3\n",
    "ngrams_model = ngrams(tokens, n)\n"
   ]
  },
  {
   "cell_type": "code",
   "execution_count": null,
   "metadata": {},
   "outputs": [],
   "source": [
    "# Create a frequency distribution of the n-grams using parallel processing\n",
    "def count_ngrams(ngrams):\n",
    "    fdist = FreqDist(ngrams)\n",
    "    return fdist\n"
   ]
  },
  {
   "cell_type": "code",
   "execution_count": null,
   "metadata": {},
   "outputs": [],
   "source": [
    "with ProcessPoolExecutor() as executor:\n",
    "    fdist = defaultdict(int)\n",
    "    for fdist_chunk in executor.map(count_ngrams, ngrams_model, chunksize=1000):\n",
    "        for k,v in fdist_chunk.items():\n",
    "            fdist[k] += v\n"
   ]
  },
  {
   "cell_type": "code",
   "execution_count": null,
   "metadata": {},
   "outputs": [],
   "source": [
    "# Function to predict the next word\n",
    "def predict_next_word(word):\n",
    "    possible_ngrams = [w for w in fdist if w[:n-1] == word[-n+1:]]\n",
    "    total = sum(fdist[w] for w in possible_ngrams)\n",
    "    next_words = defaultdict(int)\n",
    "    for w in possible_ngrams:\n",
    "        next_words[w[-1]] = fdist[w]/total\n",
    "    return max(next_words, key=next_words.get)\n"
   ]
  },
  {
   "cell_type": "code",
   "execution_count": null,
   "metadata": {},
   "outputs": [],
   "source": [
    "# Function to predict the list of probable next words\n",
    "def predict_next_word_list(word):\n",
    "    possible_ngrams = [w for w in fdist if w[:n-1] == word[-n+1:]]\n",
    "    total = sum(fdist[w] for w in possible_ngrams)\n",
    "    next_words = defaultdict(int)\n",
    "    for w in possible_ngrams:\n",
    "        next_words[w[-1]] = fdist[w]/total\n",
    "    return sorted(next_words, key=next_words.get,reverse=True)\n"
   ]
  },
  {
   "cell_type": "code",
   "execution_count": null,
   "metadata": {},
   "outputs": [],
   "source": [
    "# Save the model to a file\n",
    "import pickle\n",
    "with open('ngrams_model.pickle', 'wb') as handle:\n",
    "    pickle.dump(fdist, handle, protocol=pickle.HIGHEST_PROTOCOL)"
   ]
  },
  {
   "cell_type": "code",
   "execution_count": null,
   "metadata": {},
   "outputs": [],
   "source": [
    "# Load the model from a file\n",
    "with open('ngrams_model.pickle', 'rb') as handle:\n",
    "    fdist = pickle.load(handle)"
   ]
  },
  {
   "cell_type": "code",
   "execution_count": null,
   "metadata": {},
   "outputs": [],
   "source": [
    "# Example usage\n",
    "print(predict_next_word(('the','world')))\n",
    "print(predict_next_word_list(('the','world')))\n"
   ]
  }
 ],
 "metadata": {
  "kernelspec": {
   "display_name": "dojowin",
   "language": "python",
   "name": "python3"
  },
  "language_info": {
   "codemirror_mode": {
    "name": "ipython",
    "version": 3
   },
   "file_extension": ".py",
   "mimetype": "text/x-python",
   "name": "python",
   "nbconvert_exporter": "python",
   "pygments_lexer": "ipython3",
   "version": "3.10.8"
  },
  "orig_nbformat": 4,
  "vscode": {
   "interpreter": {
    "hash": "22adf4ae29c7db87a6a5e35403546b21487bbacdadf4da113fb0ab4de5ad6b23"
   }
  }
 },
 "nbformat": 4,
 "nbformat_minor": 2
}
