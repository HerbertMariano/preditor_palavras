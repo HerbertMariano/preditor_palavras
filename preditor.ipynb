{
 "cells": [
  {
   "cell_type": "code",
   "execution_count": 11,
   "metadata": {},
   "outputs": [],
   "source": [
    "import nltk\n",
    "import gensim\n",
    "from gensim.models import Word2Vec"
   ]
  },
  {
   "cell_type": "code",
   "execution_count": 12,
   "metadata": {},
   "outputs": [
    {
     "name": "stderr",
     "output_type": "stream",
     "text": [
      "[nltk_data] Downloading package gutenberg to\n",
      "[nltk_data]     C:\\Users\\herbe\\AppData\\Roaming\\nltk_data...\n",
      "[nltk_data]   Package gutenberg is already up-to-date!\n"
     ]
    }
   ],
   "source": [
    "nltk.download('gutenberg')\n",
    "gutenberg = nltk.corpus.gutenberg.sents()"
   ]
  },
  {
   "cell_type": "code",
   "execution_count": 13,
   "metadata": {},
   "outputs": [],
   "source": [
    "model = Word2Vec(gutenberg, vector_size=100, window=5, workers=4)\n",
    "model.save(\"word2vec.model\")"
   ]
  },
  {
   "cell_type": "code",
   "execution_count": 14,
   "metadata": {},
   "outputs": [],
   "source": [
    "def predict_next_word(input_list,model):\n",
    "    vector_odds = model.wv.most_similar(positive=input_list, topn=5)\n",
    "    return vector_odds"
   ]
  },
  {
   "cell_type": "code",
   "execution_count": 15,
   "metadata": {},
   "outputs": [],
   "source": [
    "loaded_model = Word2Vec.load(\"word2vec.model\")"
   ]
  },
  {
   "cell_type": "code",
   "execution_count": 16,
   "metadata": {},
   "outputs": [],
   "source": [
    "input = [\"The\", \"book\", \"is\"]\n",
    "possibilities = predict_next_word(input,loaded_model)"
   ]
  },
  {
   "cell_type": "code",
   "execution_count": 17,
   "metadata": {},
   "outputs": [
    {
     "name": "stdout",
     "output_type": "stream",
     "text": [
      "Next word:  whaling\n",
      "Possibilities:  [('whaling', 0.5997612476348877), ('testament', 0.564294159412384), ('sight', 0.5448867678642273), ('Sperm', 0.5392782092094421), ('chronicles', 0.5373831391334534)]\n"
     ]
    }
   ],
   "source": [
    "print(\"Next word: \", possibilities[0][0])\n",
    "print(\"Possibilities: \", possibilities)"
   ]
  }
 ],
 "metadata": {
  "kernelspec": {
   "display_name": "dojowin",
   "language": "python",
   "name": "python3"
  },
  "language_info": {
   "codemirror_mode": {
    "name": "ipython",
    "version": 3
   },
   "file_extension": ".py",
   "mimetype": "text/x-python",
   "name": "python",
   "nbconvert_exporter": "python",
   "pygments_lexer": "ipython3",
   "version": "3.10.8"
  },
  "orig_nbformat": 4,
  "vscode": {
   "interpreter": {
    "hash": "22adf4ae29c7db87a6a5e35403546b21487bbacdadf4da113fb0ab4de5ad6b23"
   }
  }
 },
 "nbformat": 4,
 "nbformat_minor": 2
}
